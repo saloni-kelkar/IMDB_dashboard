{
 "cells": [
  {
   "cell_type": "code",
   "execution_count": 1,
   "id": "d2cdda19-0244-47a0-bd1b-58c5f7e86b6c",
   "metadata": {},
   "outputs": [],
   "source": [
    "import plotly\n",
    "import numpy as np\n",
    "import pandas as pd"
   ]
  },
  {
   "cell_type": "code",
   "execution_count": null,
   "id": "df4fcd36-2629-4675-a997-ff8caa858ddd",
   "metadata": {},
   "outputs": [],
   "source": [
    "data_names = pd.read_csv('data/name.basics.tsv/data.tsv', sep='\\t', dtype={\"nconst\": \"string\", \"primaryName\": \"string\", \"birthYear\": \"string\", \"deathYear\": \"string\", \"primartProfession\": \"string\", \"knownForTitles\": \"string\"})\n",
    "data_title_akas = pd.read_csv('data/title.akas.tsv/data.tsv', sep='\\t', dtype={\"titleId\": \"string\", \"ordering\": int, \"title\": \"string\", \"region\": \"string\", \"language\": \"string\", \"types\": \"string\", \"attributes\": \"string\", \"isOriginalTitle\": \"string\"})\n",
    "data_title_basics = pd.read_csv('data/title.basics.tsv/data.tsv', sep='\\t', dtype={\"tconst\": \"string\", \"titleType\": \"string\", \"primaryTitle\": \"string\", \"originalTitle\": \"string\", \"isAdult\": \"string\", \"startYear\": \"string\", \"endYear\": \"string\", \"runtimeMinutes\": \"string\", \"genres\": \"string\"})\n",
    "data_title_crew = pd.read_csv('data/title.crew.tsv/data.tsv', sep='\\t', dtype={\"tconst\": \"string\", \"directors\": \"string\", \"writers\": \"string\"})\n",
    "data_title_episode = pd.read_csv('data/title.episode.tsv/data.tsv', sep='\\t', dtype={\"tconst\": \"string\", \"parentTconst\": \"string\", \"seasonNumber\": \"string\", \"episodeNumber\": \"string\"})\n",
    "data_title_principals = pd.read_csv('data/title.principals.tsv/data.tsv', sep='\\t', dtype={\"tconst\": \"string\", \"ordering\": int, \"nconst\": \"string\", \"category\": \"string\", \"job\": \"string\", \"characters\": \"string\"})\n",
    "data_title_ratings = pd.read_csv('data/title.ratings.tsv/data.tsv', sep='\\t', dtype={\"tconst\": \"string\", \"averageRating\": \"string\", \"numVotes\": \"string\"})"
   ]
  },
  {
   "cell_type": "code",
   "execution_count": null,
   "id": "ff39cb3c-9c6e-4093-b31a-1c046f39358e",
   "metadata": {},
   "outputs": [],
   "source": [
    "data_title_akas = data_title_akas[data_title_akas.types == 'tv']"
   ]
  },
  {
   "cell_type": "code",
   "execution_count": null,
   "id": "6023b1d7-23b7-4f08-8379-eff7d3672b4c",
   "metadata": {},
   "outputs": [],
   "source": [
    "data_title_akas"
   ]
  }
 ],
 "metadata": {
  "kernelspec": {
   "display_name": "Python 3 (ipykernel)",
   "language": "python",
   "name": "python3"
  },
  "language_info": {
   "codemirror_mode": {
    "name": "ipython",
    "version": 3
   },
   "file_extension": ".py",
   "mimetype": "text/x-python",
   "name": "python",
   "nbconvert_exporter": "python",
   "pygments_lexer": "ipython3",
   "version": "3.8.3"
  }
 },
 "nbformat": 4,
 "nbformat_minor": 5
}
